{
 "cells": [
  {
   "cell_type": "code",
   "execution_count": 4,
   "id": "26a8e2ee",
   "metadata": {},
   "outputs": [],
   "source": [
    "import pandas as pd\n",
    "import numpy as np\n",
    "import matplotlib.pyplot as plt\n",
    "import seaborn as sns\n",
    "import os # For listing files\n",
    "import warnings\n",
    "\n",
    "warnings.filterwarnings('ignore') # Suppress warnings, especially from pandas\n",
    "\n",
    "# Configure pandas to display more rows/columns\n",
    "pd.set_option('display.max_columns', None)\n",
    "pd.set_option('display.max_rows', 100)\n",
    "pd.set_option('display.width', 1000)"
   ]
  },
  {
   "cell_type": "code",
   "execution_count": null,
   "id": "a1effeef",
   "metadata": {},
   "outputs": [],
   "source": [
    "data_path = r\"C:\\Users\\HP\\Downloads\\archive\"\n",
    "#listing CSV files in the dataset\n",
    "print(\"CSV files found in the raw data folder:\")\n",
    "for file_name in os.listdir(data_path):\n",
    "    if file_name.endswith('.csv'):\n",
    "        print(f\"- {file_name}\")\n",
    "\n",
    "## Loading each CSV file into a separate pandas DataFrame\n",
    "customers_df = pd.read_csv(os.path.join(data_path, 'olist_customers_dataset.csv'))\n",
    "orders_df = pd.read_csv(os.path.join(data_path, 'olist_orders_dataset.csv'))\n",
    "order_items_df = pd.read_csv(os.path.join(data_path, 'olist_order_items_dataset.csv'))\n",
    "order_payments_df = pd.read_csv(os.path.join(data_path, 'olist_order_payments_dataset.csv'))\n",
    "products_df = pd.read_csv(os.path.join(data_path, 'olist_products_dataset.csv'))\n",
    "order_reviews_df = pd.read_csv(os.path.join(data_path, 'olist_order_reviews_dataset.csv'))\n",
    "product_category_translation_df = pd.read_csv(os.path.join(data_path, 'product_category_name_translation.csv'))"
   ]
  },
  {
   "cell_type": "code",
   "execution_count": null,
   "id": "895c5d05",
   "metadata": {},
   "outputs": [],
   "source": [
    "# Checking orders_df\n",
    "print(\"--- orders_df ---\")\n",
    "print(orders_df.head())\n",
    "print(orders_df.info())\n",
    "print(orders_df.describe(include='all'))\n",
    "print(orders_df.isnull().sum())\n",
    "print(orders_df.nunique())\n",
    "print(orders_df['order_status'].value_counts())\n",
    "\n",
    "# Checking customers_df\n",
    "print(\"\\n--- customers_df ---\")\n",
    "print(customers_df.head())\n",
    "print(customers_df.info())\n",
    "print(customers_df.describe(include='all'))\n",
    "print(customers_df.isnull().sum())\n",
    "print(customers_df.nunique())\n",
    "# Check for duplicate customer_unique_id\n",
    "print(f\"Number of duplicate customer_unique_id: {customers_df['customer_unique_id'].duplicated().sum()}\")\n",
    "\n",
    "#checking order items df\n",
    "print(order_items_df.head())\n",
    "print(order_items_df.info())\n",
    "print(order_items_df.describe(include='all'))\n",
    "print(order_items_df.isnull().sum())\n",
    "print(order_items_df.nunique())\n",
    "\n",
    "#checking order payments df\n",
    "print(order_payments_df.head())\n",
    "print(order_payments_df.info())\n",
    "print(order_payments_df.describe(include='all'))\n",
    "print(order_payments_df.isnull()sum())\n",
    "\n",
    "#checking products df\n",
    "print(products_df.info())\n",
    "print(products_df.isnull.sum())\n",
    "print(products_df.describe(include = 'all'))"
   ]
  },
  {
   "cell_type": "markdown",
   "id": "3ef9f094",
   "metadata": {},
   "source": [
    "### Initial Observations\n",
    "\n",
    "Based on this first look at the data:\n",
    "\n",
    "1. Data Types : Many date/time columns (like `order_purchase_timestamp`) are currently `object` (string) type. They will need to be converted to `datetime` objects for time-based analysis.\n",
    "2. Missing Values : We see missing values in several columns across different tables (e.g., `order_delivered_customer_date` in `orders_df`, `product_photos_qty` in `products_df`, `review_comment_message` in `order_reviews_df`). We'll need to decide how to handle these (e.g., drop rows, fill with a default value).\n",
    "3. Product Categories : `products_df` has product categories in Portuguese (`product_category_name`). `product_category_translation_df` exists to translate these to English (`product_category_name_english`), which will be essential for clearer analysis.\n",
    "4. Order Statuses : The `orders_df` has various `order_status` values. For CLTV analysis, we'll likely focus primarily on 'delivered' orders, but other statuses might be useful for understanding cancellations or delivery issues.\n",
    "5. Unique Customer ID : The `customers_df` has `customer_unique_id`, which seems to be the key for identifying a single customer across multiple orders. We need to ensure this is used correctly in our analysis.\n",
    "6. Multiple Tables : This dataset is spread across many tables. The next step will involve carefully merging these tables using common ID columns (`order_id`, `customer_id`, `product_id`, etc.) to create a single, comprehensive dataset.\n"
   ]
  }
 ],
 "metadata": {
  "kernelspec": {
   "display_name": "Python 3",
   "language": "python",
   "name": "python3"
  },
  "language_info": {
   "codemirror_mode": {
    "name": "ipython",
    "version": 3
   },
   "file_extension": ".py",
   "mimetype": "text/x-python",
   "name": "python",
   "nbconvert_exporter": "python",
   "pygments_lexer": "ipython3",
   "version": "3.13.5"
  }
 },
 "nbformat": 4,
 "nbformat_minor": 5
}
